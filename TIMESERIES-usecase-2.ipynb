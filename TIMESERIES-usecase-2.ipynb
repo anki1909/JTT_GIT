{
 "cells": [
  {
   "cell_type": "code",
   "execution_count": 1,
   "metadata": {},
   "outputs": [],
   "source": [
    "import warnings                                  # No warning\n",
    "warnings.filterwarnings('ignore')\n",
    "\n",
    "import numpy as np                               # matrices\n",
    "import pandas as pd                              # data manipulations\n",
    "import matplotlib.pyplot as plt                  # plots\n",
    "import seaborn as sns                            # more plots\n",
    "\n",
    "from dateutil.relativedelta import relativedelta # working with dates with style\n",
    "\n",
    "from tqdm import tqdm_notebook\n",
    "\n",
    "from collections import defaultdict \n",
    "\n",
    "%matplotlib inline\n"
   ]
  },
  {
   "cell_type": "markdown",
   "metadata": {},
   "source": [
    "### We could skip first 2 rows "
   ]
  },
  {
   "cell_type": "code",
   "execution_count": 2,
   "metadata": {},
   "outputs": [],
   "source": [
    "df = pd.read_excel('Usecase2_Dataset (1).xlsx',skiprows=2)\n",
    "df.replace(' ',np.nan,inplace=True)"
   ]
  },
  {
   "cell_type": "markdown",
   "metadata": {},
   "source": [
    "same part# is not unique, so i will create unique by appending 1,2,3.... as suffix"
   ]
  },
  {
   "cell_type": "code",
   "execution_count": 3,
   "metadata": {},
   "outputs": [
    {
     "data": {
      "text/plain": [
       "part_no_29032729      5\n",
       "part_no_29032728      5\n",
       "part_no_29032407      4\n",
       "part_no_19316005      4\n",
       "part_no_29032408      4\n",
       "part_no_A005H177      4\n",
       "part_no_29033079      4\n",
       "part_no_29033102      4\n",
       "part_no_29033065      4\n",
       "part_no_29032396      4\n",
       "part_no_29033064      4\n",
       "part_no_29033101      4\n",
       "part_no_19316006      4\n",
       "part_no_A005H178      4\n",
       "part_no_29033143      3\n",
       "part_no_29032776      3\n",
       "part_no_29033024      3\n",
       "part_no_29032900      3\n",
       "part_no_29032775      3\n",
       "part_no_29032901      3\n",
       "part_no_32042192FR    3\n",
       "part_no_29032628      3\n",
       "part_no_29032649      3\n",
       "part_no_29033244      3\n",
       "part_no_29033148      3\n",
       "part_no_29033023      3\n",
       "part_no_32042191      3\n",
       "part_no_29032823      3\n",
       "part_no_29033149      3\n",
       "part_no_29033253      3\n",
       "                     ..\n",
       "part_no_18345617      1\n",
       "part_no_29033236      1\n",
       "part_no_29033235PB    1\n",
       "part_no_29033204      1\n",
       "part_no_29932160      1\n",
       "part_no_29033296      1\n",
       "part_no_29033095      1\n",
       "part_no_29032793      1\n",
       "part_no_29033127      1\n",
       "part_no_A008A576EG    1\n",
       "part_no_29033237      1\n",
       "part_no_29032815      1\n",
       "part_no_29032809      1\n",
       "part_no_29032412      1\n",
       "part_no_29033258      1\n",
       "part_no_29033268      1\n",
       "part_no_29033341      1\n",
       "part_no_29032588DL    1\n",
       "part_no_29033214      1\n",
       "part_no_29032936      1\n",
       "part_no_18345618      1\n",
       "part_no_29033027DR    1\n",
       "part_no_29032527DL    1\n",
       "part_no_29033111      1\n",
       "part_no_29033255      1\n",
       "part_no_29932192      1\n",
       "part_no_29033259      1\n",
       "part_no_29033019      1\n",
       "part_no_29032803      1\n",
       "part_no_29032798      1\n",
       "Name: Part No, Length: 190, dtype: int64"
      ]
     },
     "execution_count": 3,
     "metadata": {},
     "output_type": "execute_result"
    }
   ],
   "source": [
    "df['Part No'] = 'part_no_' + df['Part No'].astype(str)\n",
    "df['Part No'].value_counts()"
   ]
  },
  {
   "cell_type": "markdown",
   "metadata": {},
   "source": [
    "### Numbe of columns and rows in the data "
   ]
  },
  {
   "cell_type": "code",
   "execution_count": 4,
   "metadata": {},
   "outputs": [
    {
     "data": {
      "text/plain": [
       "(337, 207)"
      ]
     },
     "execution_count": 4,
     "metadata": {},
     "output_type": "execute_result"
    }
   ],
   "source": [
    "df.shape"
   ]
  },
  {
   "cell_type": "markdown",
   "metadata": {},
   "source": [
    "### Info about week,"
   ]
  },
  {
   "cell_type": "code",
   "execution_count": 5,
   "metadata": {},
   "outputs": [
    {
     "name": "stdout",
     "output_type": "stream",
     "text": [
      "10 week freq:--->>> 4\n",
      "11 week freq:--->>> 4\n",
      "12 week freq:--->>> 4\n",
      "13 week freq:--->>> 4\n",
      "14 week freq:--->>> 4\n",
      "15 week freq:--->>> 4\n",
      "16 week freq:--->>> 4\n",
      "17 week freq:--->>> 4\n",
      "18 week freq:--->>> 4\n",
      "19 week freq:--->>> 4\n",
      "20 week freq:--->>> 4\n",
      "21 week freq:--->>> 4\n",
      "22 week freq:--->>> 4\n",
      "23 week freq:--->>> 4\n",
      "24 week freq:--->>> 4\n",
      "25 week freq:--->>> 4\n",
      "26 week freq:--->>> 4\n",
      "27 week freq:--->>> 4\n",
      "28 week freq:--->>> 4\n",
      "29 week freq:--->>> 4\n",
      "30 week freq:--->>> 4\n",
      "31 week freq:--->>> 4\n",
      "32 week freq:--->>> 4\n",
      "33 week freq:--->>> 4\n",
      "34 week freq:--->>> 4\n",
      "35 week freq:--->>> 4\n",
      "36 week freq:--->>> 4\n",
      "37 week freq:--->>> 4\n",
      "38 week freq:--->>> 4\n",
      "39 week freq:--->>> 4\n",
      "40 week freq:--->>> 4\n",
      "41 week freq:--->>> 4\n",
      "42 week freq:--->>> 4\n",
      "43 week freq:--->>> 4\n",
      "44 week freq:--->>> 5\n",
      "45 week freq:--->>> 4\n",
      "46 week freq:--->>> 4\n",
      "47 week freq:--->>> 4\n",
      "48 week freq:--->>> 4\n",
      "49 week freq:--->>> 3\n",
      "50 week freq:--->>> 3\n",
      "51 week freq:--->>> 3\n",
      "52 week freq:--->>> 3\n",
      "53 week freq:--->>> 1\n"
     ]
    }
   ],
   "source": [
    "week_list =  range(1, 54)\n",
    "dict1 = defaultdict(int)\n",
    "for week in week_list:\n",
    "    for col in df.columns:\n",
    "        if str(week) in str(col):\n",
    "            dict1[week]=dict1[week]+1\n",
    "for week in dict1.keys():\n",
    "    if week>9:\n",
    "        print (week, \"week freq:--->>>\",dict1[week])"
   ]
  },
  {
   "cell_type": "markdown",
   "metadata": {},
   "source": [
    "I could able to see the below distribution.\n",
    "\n",
    "week 44 is coming 5 times and 53 is coming 1 time. \n",
    "\n",
    "Why 44 is coming 5 times?\n",
    "I could able to verify from the data that there are two 44 weeks mentioned in the year 2019\n",
    "\n",
    "only 53rd week from 2016 year"
   ]
  },
  {
   "cell_type": "markdown",
   "metadata": {},
   "source": [
    "Check Null values\n"
   ]
  },
  {
   "cell_type": "code",
   "execution_count": 6,
   "metadata": {},
   "outputs": [
    {
     "data": {
      "text/plain": [
       "0      178\n",
       "241      2\n",
       "263      2\n",
       "253      2\n",
       "250      2\n",
       "244      1\n",
       "243      1\n",
       "258      1\n",
       "259      1\n",
       "264      1\n",
       "265      1\n",
       "267      1\n",
       "273      1\n",
       "275      1\n",
       "256      1\n",
       "217      1\n",
       "220      1\n",
       "251      1\n",
       "227      1\n",
       "229      1\n",
       "234      1\n",
       "236      1\n",
       "238      1\n",
       "239      1\n",
       "248      1\n",
       "226      1\n",
       "dtype: int64"
      ]
     },
     "execution_count": 6,
     "metadata": {},
     "output_type": "execute_result"
    }
   ],
   "source": [
    "df.isnull().sum().value_counts()"
   ]
  },
  {
   "cell_type": "code",
   "execution_count": 7,
   "metadata": {},
   "outputs": [
    {
     "data": {
      "text/html": [
       "<div>\n",
       "<style scoped>\n",
       "    .dataframe tbody tr th:only-of-type {\n",
       "        vertical-align: middle;\n",
       "    }\n",
       "\n",
       "    .dataframe tbody tr th {\n",
       "        vertical-align: top;\n",
       "    }\n",
       "\n",
       "    .dataframe thead th {\n",
       "        text-align: right;\n",
       "    }\n",
       "</style>\n",
       "<table border=\"1\" class=\"dataframe\">\n",
       "  <thead>\n",
       "    <tr style=\"text-align: right;\">\n",
       "      <th></th>\n",
       "      <th>WK 1</th>\n",
       "      <th>2</th>\n",
       "      <th>3</th>\n",
       "      <th>4</th>\n",
       "      <th>5</th>\n",
       "      <th>6</th>\n",
       "      <th>7</th>\n",
       "      <th>8</th>\n",
       "      <th>9</th>\n",
       "      <th>10</th>\n",
       "      <th>...</th>\n",
       "      <th>40.3</th>\n",
       "      <th>41.3</th>\n",
       "      <th>42.3</th>\n",
       "      <th>43.3</th>\n",
       "      <th>44.3</th>\n",
       "      <th>44.4</th>\n",
       "      <th>45.3</th>\n",
       "      <th>46.3</th>\n",
       "      <th>47.3</th>\n",
       "      <th>48.3</th>\n",
       "    </tr>\n",
       "  </thead>\n",
       "  <tbody>\n",
       "    <tr>\n",
       "      <th>count</th>\n",
       "      <td>337.000000</td>\n",
       "      <td>337.000000</td>\n",
       "      <td>337.000000</td>\n",
       "      <td>337.000000</td>\n",
       "      <td>337.000000</td>\n",
       "      <td>337.000000</td>\n",
       "      <td>337.000000</td>\n",
       "      <td>337.000000</td>\n",
       "      <td>337.000000</td>\n",
       "      <td>74.000000</td>\n",
       "      <td>...</td>\n",
       "      <td>96.000000</td>\n",
       "      <td>337.000000</td>\n",
       "      <td>337.000000</td>\n",
       "      <td>337.000000</td>\n",
       "      <td>337.000000</td>\n",
       "      <td>337.000000</td>\n",
       "      <td>337.000000</td>\n",
       "      <td>337.000000</td>\n",
       "      <td>337.000000</td>\n",
       "      <td>337.000000</td>\n",
       "    </tr>\n",
       "    <tr>\n",
       "      <th>mean</th>\n",
       "      <td>23.059347</td>\n",
       "      <td>180.412463</td>\n",
       "      <td>177.097923</td>\n",
       "      <td>199.673591</td>\n",
       "      <td>146.688427</td>\n",
       "      <td>203.810089</td>\n",
       "      <td>206.258160</td>\n",
       "      <td>209.142433</td>\n",
       "      <td>168.652819</td>\n",
       "      <td>958.486486</td>\n",
       "      <td>...</td>\n",
       "      <td>969.947917</td>\n",
       "      <td>271.614243</td>\n",
       "      <td>259.065282</td>\n",
       "      <td>207.130564</td>\n",
       "      <td>91.664688</td>\n",
       "      <td>70.148368</td>\n",
       "      <td>284.709199</td>\n",
       "      <td>294.029674</td>\n",
       "      <td>273.373887</td>\n",
       "      <td>332.234421</td>\n",
       "    </tr>\n",
       "    <tr>\n",
       "      <th>std</th>\n",
       "      <td>92.360880</td>\n",
       "      <td>834.727974</td>\n",
       "      <td>792.244753</td>\n",
       "      <td>827.860269</td>\n",
       "      <td>593.616449</td>\n",
       "      <td>930.706244</td>\n",
       "      <td>841.667588</td>\n",
       "      <td>835.587192</td>\n",
       "      <td>613.140643</td>\n",
       "      <td>1660.120249</td>\n",
       "      <td>...</td>\n",
       "      <td>1337.581127</td>\n",
       "      <td>834.446120</td>\n",
       "      <td>865.582845</td>\n",
       "      <td>628.658228</td>\n",
       "      <td>354.076764</td>\n",
       "      <td>245.661041</td>\n",
       "      <td>893.071088</td>\n",
       "      <td>963.723687</td>\n",
       "      <td>990.124861</td>\n",
       "      <td>1051.115188</td>\n",
       "    </tr>\n",
       "    <tr>\n",
       "      <th>min</th>\n",
       "      <td>0.000000</td>\n",
       "      <td>0.000000</td>\n",
       "      <td>0.000000</td>\n",
       "      <td>0.000000</td>\n",
       "      <td>0.000000</td>\n",
       "      <td>0.000000</td>\n",
       "      <td>0.000000</td>\n",
       "      <td>0.000000</td>\n",
       "      <td>0.000000</td>\n",
       "      <td>2.000000</td>\n",
       "      <td>...</td>\n",
       "      <td>1.000000</td>\n",
       "      <td>0.000000</td>\n",
       "      <td>0.000000</td>\n",
       "      <td>0.000000</td>\n",
       "      <td>0.000000</td>\n",
       "      <td>0.000000</td>\n",
       "      <td>0.000000</td>\n",
       "      <td>0.000000</td>\n",
       "      <td>0.000000</td>\n",
       "      <td>0.000000</td>\n",
       "    </tr>\n",
       "    <tr>\n",
       "      <th>25%</th>\n",
       "      <td>0.000000</td>\n",
       "      <td>0.000000</td>\n",
       "      <td>0.000000</td>\n",
       "      <td>0.000000</td>\n",
       "      <td>0.000000</td>\n",
       "      <td>0.000000</td>\n",
       "      <td>0.000000</td>\n",
       "      <td>0.000000</td>\n",
       "      <td>0.000000</td>\n",
       "      <td>143.500000</td>\n",
       "      <td>...</td>\n",
       "      <td>135.000000</td>\n",
       "      <td>0.000000</td>\n",
       "      <td>0.000000</td>\n",
       "      <td>0.000000</td>\n",
       "      <td>0.000000</td>\n",
       "      <td>0.000000</td>\n",
       "      <td>0.000000</td>\n",
       "      <td>0.000000</td>\n",
       "      <td>0.000000</td>\n",
       "      <td>0.000000</td>\n",
       "    </tr>\n",
       "    <tr>\n",
       "      <th>50%</th>\n",
       "      <td>0.000000</td>\n",
       "      <td>0.000000</td>\n",
       "      <td>0.000000</td>\n",
       "      <td>0.000000</td>\n",
       "      <td>0.000000</td>\n",
       "      <td>0.000000</td>\n",
       "      <td>0.000000</td>\n",
       "      <td>0.000000</td>\n",
       "      <td>0.000000</td>\n",
       "      <td>480.000000</td>\n",
       "      <td>...</td>\n",
       "      <td>375.000000</td>\n",
       "      <td>0.000000</td>\n",
       "      <td>0.000000</td>\n",
       "      <td>0.000000</td>\n",
       "      <td>0.000000</td>\n",
       "      <td>0.000000</td>\n",
       "      <td>0.000000</td>\n",
       "      <td>0.000000</td>\n",
       "      <td>0.000000</td>\n",
       "      <td>0.000000</td>\n",
       "    </tr>\n",
       "    <tr>\n",
       "      <th>75%</th>\n",
       "      <td>0.000000</td>\n",
       "      <td>0.000000</td>\n",
       "      <td>0.000000</td>\n",
       "      <td>0.000000</td>\n",
       "      <td>0.000000</td>\n",
       "      <td>0.000000</td>\n",
       "      <td>0.000000</td>\n",
       "      <td>0.000000</td>\n",
       "      <td>0.000000</td>\n",
       "      <td>1080.000000</td>\n",
       "      <td>...</td>\n",
       "      <td>1458.000000</td>\n",
       "      <td>2.000000</td>\n",
       "      <td>10.000000</td>\n",
       "      <td>16.000000</td>\n",
       "      <td>0.000000</td>\n",
       "      <td>0.000000</td>\n",
       "      <td>20.000000</td>\n",
       "      <td>7.000000</td>\n",
       "      <td>0.000000</td>\n",
       "      <td>3.000000</td>\n",
       "    </tr>\n",
       "    <tr>\n",
       "      <th>max</th>\n",
       "      <td>756.000000</td>\n",
       "      <td>9316.000000</td>\n",
       "      <td>8964.000000</td>\n",
       "      <td>9000.000000</td>\n",
       "      <td>6264.000000</td>\n",
       "      <td>10476.000000</td>\n",
       "      <td>9180.000000</td>\n",
       "      <td>8892.000000</td>\n",
       "      <td>6228.000000</td>\n",
       "      <td>9468.000000</td>\n",
       "      <td>...</td>\n",
       "      <td>7425.000000</td>\n",
       "      <td>7516.000000</td>\n",
       "      <td>8910.000000</td>\n",
       "      <td>4320.000000</td>\n",
       "      <td>3690.000000</td>\n",
       "      <td>2610.000000</td>\n",
       "      <td>7650.000000</td>\n",
       "      <td>8865.000000</td>\n",
       "      <td>10530.000000</td>\n",
       "      <td>9360.000000</td>\n",
       "    </tr>\n",
       "  </tbody>\n",
       "</table>\n",
       "<p>8 rows × 206 columns</p>\n",
       "</div>"
      ],
      "text/plain": [
       "             WK 1            2            3            4            5  \\\n",
       "count  337.000000   337.000000   337.000000   337.000000   337.000000   \n",
       "mean    23.059347   180.412463   177.097923   199.673591   146.688427   \n",
       "std     92.360880   834.727974   792.244753   827.860269   593.616449   \n",
       "min      0.000000     0.000000     0.000000     0.000000     0.000000   \n",
       "25%      0.000000     0.000000     0.000000     0.000000     0.000000   \n",
       "50%      0.000000     0.000000     0.000000     0.000000     0.000000   \n",
       "75%      0.000000     0.000000     0.000000     0.000000     0.000000   \n",
       "max    756.000000  9316.000000  8964.000000  9000.000000  6264.000000   \n",
       "\n",
       "                  6            7            8            9           10  ...  \\\n",
       "count    337.000000   337.000000   337.000000   337.000000    74.000000  ...   \n",
       "mean     203.810089   206.258160   209.142433   168.652819   958.486486  ...   \n",
       "std      930.706244   841.667588   835.587192   613.140643  1660.120249  ...   \n",
       "min        0.000000     0.000000     0.000000     0.000000     2.000000  ...   \n",
       "25%        0.000000     0.000000     0.000000     0.000000   143.500000  ...   \n",
       "50%        0.000000     0.000000     0.000000     0.000000   480.000000  ...   \n",
       "75%        0.000000     0.000000     0.000000     0.000000  1080.000000  ...   \n",
       "max    10476.000000  9180.000000  8892.000000  6228.000000  9468.000000  ...   \n",
       "\n",
       "              40.3         41.3         42.3         43.3         44.3  \\\n",
       "count    96.000000   337.000000   337.000000   337.000000   337.000000   \n",
       "mean    969.947917   271.614243   259.065282   207.130564    91.664688   \n",
       "std    1337.581127   834.446120   865.582845   628.658228   354.076764   \n",
       "min       1.000000     0.000000     0.000000     0.000000     0.000000   \n",
       "25%     135.000000     0.000000     0.000000     0.000000     0.000000   \n",
       "50%     375.000000     0.000000     0.000000     0.000000     0.000000   \n",
       "75%    1458.000000     2.000000    10.000000    16.000000     0.000000   \n",
       "max    7425.000000  7516.000000  8910.000000  4320.000000  3690.000000   \n",
       "\n",
       "              44.4         45.3         46.3          47.3         48.3  \n",
       "count   337.000000   337.000000   337.000000    337.000000   337.000000  \n",
       "mean     70.148368   284.709199   294.029674    273.373887   332.234421  \n",
       "std     245.661041   893.071088   963.723687    990.124861  1051.115188  \n",
       "min       0.000000     0.000000     0.000000      0.000000     0.000000  \n",
       "25%       0.000000     0.000000     0.000000      0.000000     0.000000  \n",
       "50%       0.000000     0.000000     0.000000      0.000000     0.000000  \n",
       "75%       0.000000    20.000000     7.000000      0.000000     3.000000  \n",
       "max    2610.000000  7650.000000  8865.000000  10530.000000  9360.000000  \n",
       "\n",
       "[8 rows x 206 columns]"
      ]
     },
     "execution_count": 7,
     "metadata": {},
     "output_type": "execute_result"
    }
   ],
   "source": [
    "df.describe()"
   ]
  },
  {
   "cell_type": "markdown",
   "metadata": {},
   "source": [
    "Format the data \n",
    "\n",
    "After executing the below cell. I will run few steps:\n",
    "\n",
    "1. Tranpose the data so that every column would be a part number and every row would be associated with the respective year's week\n",
    "\n",
    "2. since 44 week is coming 2 times from 2019 data, we can take the mean and can make only one week for 2019 "
   ]
  },
  {
   "cell_type": "code",
   "execution_count": 8,
   "metadata": {},
   "outputs": [],
   "source": [
    "df = df.T\n",
    "df.columns =  df.head(1).values[0]\n",
    "df = df.drop(['Part No'],axis=0)\n"
   ]
  },
  {
   "cell_type": "markdown",
   "metadata": {},
   "source": [
    "Create duplicate columns as suffix 1,2, 3"
   ]
  },
  {
   "cell_type": "code",
   "execution_count": 9,
   "metadata": {},
   "outputs": [
    {
     "name": "stdout",
     "output_type": "stream",
     "text": [
      "(206, 337)\n",
      "tuple index out of range\n",
      "tuple index out of range\n",
      "'part_no_29033235'\n",
      "'part_no_29033234'\n",
      "tuple index out of range\n",
      "tuple index out of range\n",
      "tuple index out of range\n",
      "tuple index out of range\n",
      "'part_no_29032639'\n",
      "'part_no_29032640'\n",
      "tuple index out of range\n",
      "tuple index out of range\n",
      "tuple index out of range\n",
      "tuple index out of range\n",
      "tuple index out of range\n",
      "tuple index out of range\n",
      "'part_no_29033030BC'\n",
      "'part_no_29033029BC'\n",
      "tuple index out of range\n",
      "tuple index out of range\n",
      "'part_no_29033028DR'\n",
      "tuple index out of range\n",
      "'part_no_29032341FI'\n",
      "'part_no_29032342FI'\n",
      "'part_no_A005Y137'\n",
      "'part_no_A005Y138'\n",
      "tuple index out of range\n",
      "tuple index out of range\n",
      "'part_no_29033101'\n",
      "'part_no_29033101'\n",
      "'part_no_29033101'\n",
      "'part_no_29033102'\n",
      "'part_no_29033102'\n",
      "'part_no_29033102'\n",
      "tuple index out of range\n",
      "tuple index out of range\n",
      "'part_no_32042192'\n",
      "'part_no_32042191'\n",
      "'part_no_32042191'\n",
      "'part_no_29032507'\n",
      "'part_no_29032507'\n",
      "'part_no_29032508'\n",
      "'part_no_29032508'\n",
      "tuple index out of range\n",
      "tuple index out of range\n",
      "tuple index out of range\n",
      "tuple index out of range\n",
      "'part_no_29032875'\n",
      "'part_no_29032874'\n",
      "tuple index out of range\n",
      "tuple index out of range\n",
      "'part_no_29032822'\n",
      "'part_no_29032823'\n",
      "'part_no_29032823'\n",
      "'part_no_29032912'\n",
      "'part_no_29032912'\n",
      "'part_no_29032913'\n",
      "'part_no_29032913'\n",
      "'part_no_29032842'\n",
      "'part_no_29032842'\n",
      "'part_no_29032841'\n",
      "'part_no_29032841'\n",
      "tuple index out of range\n",
      "tuple index out of range\n",
      "'part_no_A008A578'\n",
      "'part_no_A008A576'\n",
      "'part_no_29032900'\n",
      "'part_no_29032900'\n",
      "'part_no_29032901'\n",
      "'part_no_29032901'\n",
      "'part_no_A005H177'\n",
      "'part_no_A005H177'\n",
      "'part_no_A005H177'\n",
      "'part_no_A005H178'\n",
      "'part_no_A005H178'\n",
      "'part_no_A005H178'\n",
      "'part_no_29032893'\n",
      "'part_no_29032892'\n",
      "tuple index out of range\n",
      "tuple index out of range\n",
      "'part_no_19316005'\n",
      "'part_no_19316005'\n",
      "'part_no_19316005'\n",
      "'part_no_19316006'\n",
      "'part_no_19316006'\n",
      "'part_no_19316006'\n",
      "'part_no_29032724'\n",
      "'part_no_29032723'\n",
      "'part_no_29032723'\n",
      "'part_no_29033079'\n",
      "'part_no_29033079'\n",
      "'part_no_29033079'\n",
      "'part_no_29033080'\n",
      "'part_no_29033080'\n",
      "'part_no_29032413'\n",
      "'part_no_29032414'\n",
      "'part_no_29032424'\n",
      "'part_no_29032423'\n",
      "'part_no_29032627'\n",
      "'part_no_29032627'\n",
      "'part_no_29032628'\n",
      "'part_no_29032628'\n",
      "tuple index out of range\n",
      "tuple index out of range\n",
      "'part_no_29032408'\n",
      "'part_no_29032408'\n",
      "'part_no_29032408'\n",
      "'part_no_29032407'\n",
      "'part_no_29032407'\n",
      "'part_no_29032407'\n",
      "tuple index out of range\n",
      "tuple index out of range\n",
      "tuple index out of range\n",
      "tuple index out of range\n",
      "tuple index out of range\n",
      "tuple index out of range\n",
      "tuple index out of range\n",
      "'part_no_29033064'\n",
      "'part_no_29033064'\n",
      "'part_no_29033064'\n",
      "'part_no_29033065'\n",
      "'part_no_29033065'\n",
      "'part_no_29033065'\n",
      "tuple index out of range\n",
      "tuple index out of range\n",
      "'part_no_29032427DP'\n",
      "'part_no_29032428DP'\n",
      "tuple index out of range\n",
      "tuple index out of range\n",
      "tuple index out of range\n",
      "tuple index out of range\n",
      "'part_no_29032729'\n",
      "'part_no_29032729'\n",
      "'part_no_29032729'\n",
      "'part_no_29032729'\n",
      "'part_no_29032728'\n",
      "'part_no_29032728'\n",
      "'part_no_29032728'\n",
      "'part_no_29032728'\n",
      "'part_no_29032775'\n",
      "'part_no_29032775'\n",
      "'part_no_29032776'\n",
      "'part_no_29032776'\n",
      "'part_no_29032396'\n",
      "'part_no_29032396'\n",
      "'part_no_29032396'\n",
      "'part_no_29032395'\n",
      "'part_no_29032395'\n",
      "'part_no_29032138BC'\n",
      "'part_no_29032138BC'\n",
      "'part_no_29032139BC'\n",
      "'part_no_29032139BC'\n",
      "tuple index out of range\n",
      "tuple index out of range\n",
      "'part_no_29032649'\n",
      "'part_no_29032649'\n",
      "'part_no_29032648'\n",
      "'part_no_29032648'\n",
      "tuple index out of range\n",
      "tuple index out of range\n",
      "'part_no_29033265'\n",
      "'part_no_29033266'\n",
      "'part_no_32054388'\n",
      "'part_no_32054389'\n",
      "tuple index out of range\n",
      "tuple index out of range\n",
      "tuple index out of range\n",
      "tuple index out of range\n",
      "'part_no_29033148'\n",
      "'part_no_29033148'\n",
      "'part_no_29033149'\n",
      "'part_no_29033149'\n",
      "'part_no_29033023'\n",
      "'part_no_29033023'\n",
      "'part_no_29033024'\n",
      "'part_no_29033024'\n",
      "tuple index out of range\n",
      "tuple index out of range\n",
      "tuple index out of range\n",
      "tuple index out of range\n",
      "tuple index out of range\n",
      "tuple index out of range\n",
      "tuple index out of range\n",
      "tuple index out of range\n",
      "'part_no_32042191FR'\n",
      "'part_no_32042191FR'\n",
      "'part_no_32042192FR'\n",
      "'part_no_32042192FR'\n",
      "'part_no_29032920'\n",
      "'part_no_29032921'\n",
      "'part_no_29033245'\n",
      "'part_no_29033245'\n",
      "'part_no_29033244'\n",
      "'part_no_29033244'\n",
      "tuple index out of range\n",
      "tuple index out of range\n",
      "tuple index out of range\n",
      "'part_no_29032485'\n",
      "'part_no_29032486'\n",
      "'part_no_29032487'\n",
      "'part_no_29032488'\n",
      "tuple index out of range\n",
      "tuple index out of range\n",
      "tuple index out of range\n",
      "tuple index out of range\n",
      "'part_no_29033143'\n",
      "'part_no_29033143'\n",
      "'part_no_29033277'\n",
      "'part_no_29033277'\n",
      "'part_no_29033278'\n",
      "tuple index out of range\n",
      "tuple index out of range\n",
      "tuple index out of range\n",
      "tuple index out of range\n",
      "tuple index out of range\n",
      "tuple index out of range\n",
      "tuple index out of range\n",
      "tuple index out of range\n",
      "tuple index out of range\n",
      "tuple index out of range\n",
      "tuple index out of range\n",
      "tuple index out of range\n",
      "tuple index out of range\n",
      "tuple index out of range\n",
      "'part_no_29033252'\n",
      "'part_no_29033252'\n",
      "'part_no_29033253'\n",
      "'part_no_29033253'\n",
      "tuple index out of range\n",
      "tuple index out of range\n",
      "tuple index out of range\n",
      "tuple index out of range\n",
      "tuple index out of range\n",
      "tuple index out of range\n",
      "tuple index out of range\n",
      "tuple index out of range\n",
      "tuple index out of range\n",
      "tuple index out of range\n",
      "tuple index out of range\n",
      "tuple index out of range\n",
      "tuple index out of range\n",
      "tuple index out of range\n",
      "tuple index out of range\n",
      "tuple index out of range\n",
      "tuple index out of range\n",
      "tuple index out of range\n",
      "tuple index out of range\n",
      "tuple index out of range\n",
      "tuple index out of range\n",
      "tuple index out of range\n",
      "tuple index out of range\n",
      "tuple index out of range\n",
      "tuple index out of range\n",
      "(206, 337)\n"
     ]
    }
   ],
   "source": [
    "print (df.shape)\n",
    "same_col_name = []\n",
    "for col in df.columns:\n",
    "    try:\n",
    "        if df[col].shape[1]>1:\n",
    "            df1 = df[col]\n",
    "            df = df.drop(col,axis=1)\n",
    "            df1.columns = [col + '_' + str(i) for i in range(df1.shape[1])]   \n",
    "            same_col_name.append([col + '_' + str(i) for i in range(df1.shape[1])])\n",
    "            df  = pd.concat((df,df1),axis=1)\n",
    "    except Exception as e:\n",
    "        print (e)\n",
    "            \n",
    "print (df.shape)\n",
    "  "
   ]
  },
  {
   "cell_type": "code",
   "execution_count": 10,
   "metadata": {},
   "outputs": [
    {
     "data": {
      "text/html": [
       "<div>\n",
       "<style scoped>\n",
       "    .dataframe tbody tr th:only-of-type {\n",
       "        vertical-align: middle;\n",
       "    }\n",
       "\n",
       "    .dataframe tbody tr th {\n",
       "        vertical-align: top;\n",
       "    }\n",
       "\n",
       "    .dataframe thead th {\n",
       "        text-align: right;\n",
       "    }\n",
       "</style>\n",
       "<table border=\"1\" class=\"dataframe\">\n",
       "  <thead>\n",
       "    <tr style=\"text-align: right;\">\n",
       "      <th></th>\n",
       "      <th>part_no_29032636</th>\n",
       "      <th>part_no_29032635</th>\n",
       "      <th>part_no_29032793</th>\n",
       "      <th>part_no_29032794</th>\n",
       "      <th>part_no_29032588DL</th>\n",
       "      <th>part_no_29032587DL</th>\n",
       "      <th>part_no_29032815</th>\n",
       "      <th>part_no_29032814</th>\n",
       "      <th>part_no_29032527DL</th>\n",
       "      <th>part_no_29032526DL</th>\n",
       "      <th>...</th>\n",
       "      <th>part_no_29033277_1</th>\n",
       "      <th>part_no_29033277_2</th>\n",
       "      <th>part_no_29033278_0</th>\n",
       "      <th>part_no_29033278_1</th>\n",
       "      <th>part_no_29033252_0</th>\n",
       "      <th>part_no_29033252_1</th>\n",
       "      <th>part_no_29033252_2</th>\n",
       "      <th>part_no_29033253_0</th>\n",
       "      <th>part_no_29033253_1</th>\n",
       "      <th>part_no_29033253_2</th>\n",
       "    </tr>\n",
       "  </thead>\n",
       "  <tbody>\n",
       "    <tr>\n",
       "      <th>44.3</th>\n",
       "      <td>432</td>\n",
       "      <td>432</td>\n",
       "      <td>1056</td>\n",
       "      <td>1056</td>\n",
       "      <td>0</td>\n",
       "      <td>0</td>\n",
       "      <td>630</td>\n",
       "      <td>630</td>\n",
       "      <td>585</td>\n",
       "      <td>585</td>\n",
       "      <td>...</td>\n",
       "      <td>0</td>\n",
       "      <td>0</td>\n",
       "      <td>0</td>\n",
       "      <td>0</td>\n",
       "      <td>0</td>\n",
       "      <td>0</td>\n",
       "      <td>0</td>\n",
       "      <td>0</td>\n",
       "      <td>0</td>\n",
       "      <td>0</td>\n",
       "    </tr>\n",
       "    <tr>\n",
       "      <th>44.4</th>\n",
       "      <td>180</td>\n",
       "      <td>180</td>\n",
       "      <td>480</td>\n",
       "      <td>480</td>\n",
       "      <td>0</td>\n",
       "      <td>0</td>\n",
       "      <td>225</td>\n",
       "      <td>225</td>\n",
       "      <td>315</td>\n",
       "      <td>315</td>\n",
       "      <td>...</td>\n",
       "      <td>0</td>\n",
       "      <td>0</td>\n",
       "      <td>0</td>\n",
       "      <td>0</td>\n",
       "      <td>0</td>\n",
       "      <td>0</td>\n",
       "      <td>0</td>\n",
       "      <td>0</td>\n",
       "      <td>0</td>\n",
       "      <td>0</td>\n",
       "    </tr>\n",
       "  </tbody>\n",
       "</table>\n",
       "<p>2 rows × 337 columns</p>\n",
       "</div>"
      ],
      "text/plain": [
       "     part_no_29032636 part_no_29032635 part_no_29032793 part_no_29032794  \\\n",
       "44.3              432              432             1056             1056   \n",
       "44.4              180              180              480              480   \n",
       "\n",
       "     part_no_29032588DL part_no_29032587DL part_no_29032815 part_no_29032814  \\\n",
       "44.3                  0                  0              630              630   \n",
       "44.4                  0                  0              225              225   \n",
       "\n",
       "     part_no_29032527DL part_no_29032526DL  ... part_no_29033277_1  \\\n",
       "44.3                585                585  ...                  0   \n",
       "44.4                315                315  ...                  0   \n",
       "\n",
       "     part_no_29033277_2 part_no_29033278_0 part_no_29033278_1  \\\n",
       "44.3                  0                  0                  0   \n",
       "44.4                  0                  0                  0   \n",
       "\n",
       "     part_no_29033252_0 part_no_29033252_1 part_no_29033252_2  \\\n",
       "44.3                  0                  0                  0   \n",
       "44.4                  0                  0                  0   \n",
       "\n",
       "     part_no_29033253_0 part_no_29033253_1 part_no_29033253_2  \n",
       "44.3                  0                  0                  0  \n",
       "44.4                  0                  0                  0  \n",
       "\n",
       "[2 rows x 337 columns]"
      ]
     },
     "execution_count": 10,
     "metadata": {},
     "output_type": "execute_result"
    }
   ],
   "source": [
    "df.ix[['44.3','44.4']]"
   ]
  },
  {
   "cell_type": "code",
   "execution_count": 11,
   "metadata": {},
   "outputs": [],
   "source": [
    "df.ix['44.3'] = (df.ix['44.3'] + df.ix['44.4'])/2"
   ]
  },
  {
   "cell_type": "code",
   "execution_count": 12,
   "metadata": {},
   "outputs": [
    {
     "data": {
      "text/html": [
       "<div>\n",
       "<style scoped>\n",
       "    .dataframe tbody tr th:only-of-type {\n",
       "        vertical-align: middle;\n",
       "    }\n",
       "\n",
       "    .dataframe tbody tr th {\n",
       "        vertical-align: top;\n",
       "    }\n",
       "\n",
       "    .dataframe thead th {\n",
       "        text-align: right;\n",
       "    }\n",
       "</style>\n",
       "<table border=\"1\" class=\"dataframe\">\n",
       "  <thead>\n",
       "    <tr style=\"text-align: right;\">\n",
       "      <th></th>\n",
       "      <th>part_no_29032636</th>\n",
       "      <th>part_no_29032635</th>\n",
       "      <th>part_no_29032793</th>\n",
       "      <th>part_no_29032794</th>\n",
       "      <th>part_no_29032588DL</th>\n",
       "      <th>part_no_29032587DL</th>\n",
       "      <th>part_no_29032815</th>\n",
       "      <th>part_no_29032814</th>\n",
       "      <th>part_no_29032527DL</th>\n",
       "      <th>part_no_29032526DL</th>\n",
       "      <th>...</th>\n",
       "      <th>part_no_29033277_1</th>\n",
       "      <th>part_no_29033277_2</th>\n",
       "      <th>part_no_29033278_0</th>\n",
       "      <th>part_no_29033278_1</th>\n",
       "      <th>part_no_29033252_0</th>\n",
       "      <th>part_no_29033252_1</th>\n",
       "      <th>part_no_29033252_2</th>\n",
       "      <th>part_no_29033253_0</th>\n",
       "      <th>part_no_29033253_1</th>\n",
       "      <th>part_no_29033253_2</th>\n",
       "    </tr>\n",
       "  </thead>\n",
       "  <tbody>\n",
       "    <tr>\n",
       "      <th>44.3</th>\n",
       "      <td>306</td>\n",
       "      <td>306</td>\n",
       "      <td>768</td>\n",
       "      <td>768</td>\n",
       "      <td>0</td>\n",
       "      <td>0</td>\n",
       "      <td>427.5</td>\n",
       "      <td>427.5</td>\n",
       "      <td>450</td>\n",
       "      <td>450</td>\n",
       "      <td>...</td>\n",
       "      <td>0</td>\n",
       "      <td>0</td>\n",
       "      <td>0</td>\n",
       "      <td>0</td>\n",
       "      <td>0</td>\n",
       "      <td>0</td>\n",
       "      <td>0</td>\n",
       "      <td>0</td>\n",
       "      <td>0</td>\n",
       "      <td>0</td>\n",
       "    </tr>\n",
       "    <tr>\n",
       "      <th>44.4</th>\n",
       "      <td>180</td>\n",
       "      <td>180</td>\n",
       "      <td>480</td>\n",
       "      <td>480</td>\n",
       "      <td>0</td>\n",
       "      <td>0</td>\n",
       "      <td>225</td>\n",
       "      <td>225</td>\n",
       "      <td>315</td>\n",
       "      <td>315</td>\n",
       "      <td>...</td>\n",
       "      <td>0</td>\n",
       "      <td>0</td>\n",
       "      <td>0</td>\n",
       "      <td>0</td>\n",
       "      <td>0</td>\n",
       "      <td>0</td>\n",
       "      <td>0</td>\n",
       "      <td>0</td>\n",
       "      <td>0</td>\n",
       "      <td>0</td>\n",
       "    </tr>\n",
       "  </tbody>\n",
       "</table>\n",
       "<p>2 rows × 337 columns</p>\n",
       "</div>"
      ],
      "text/plain": [
       "     part_no_29032636 part_no_29032635 part_no_29032793 part_no_29032794  \\\n",
       "44.3              306              306              768              768   \n",
       "44.4              180              180              480              480   \n",
       "\n",
       "     part_no_29032588DL part_no_29032587DL part_no_29032815 part_no_29032814  \\\n",
       "44.3                  0                  0            427.5            427.5   \n",
       "44.4                  0                  0              225              225   \n",
       "\n",
       "     part_no_29032527DL part_no_29032526DL  ... part_no_29033277_1  \\\n",
       "44.3                450                450  ...                  0   \n",
       "44.4                315                315  ...                  0   \n",
       "\n",
       "     part_no_29033277_2 part_no_29033278_0 part_no_29033278_1  \\\n",
       "44.3                  0                  0                  0   \n",
       "44.4                  0                  0                  0   \n",
       "\n",
       "     part_no_29033252_0 part_no_29033252_1 part_no_29033252_2  \\\n",
       "44.3                  0                  0                  0   \n",
       "44.4                  0                  0                  0   \n",
       "\n",
       "     part_no_29033253_0 part_no_29033253_1 part_no_29033253_2  \n",
       "44.3                  0                  0                  0  \n",
       "44.4                  0                  0                  0  \n",
       "\n",
       "[2 rows x 337 columns]"
      ]
     },
     "execution_count": 12,
     "metadata": {},
     "output_type": "execute_result"
    }
   ],
   "source": [
    "df.ix[['44.3','44.4']]\n"
   ]
  },
  {
   "cell_type": "code",
   "execution_count": 13,
   "metadata": {},
   "outputs": [],
   "source": [
    "df = df.drop(['44.4'],axis=0)"
   ]
  },
  {
   "cell_type": "code",
   "execution_count": 14,
   "metadata": {},
   "outputs": [
    {
     "data": {
      "text/plain": [
       "(205, 337)"
      ]
     },
     "execution_count": 14,
     "metadata": {},
     "output_type": "execute_result"
    }
   ],
   "source": [
    "df.shape"
   ]
  },
  {
   "cell_type": "markdown",
   "metadata": {},
   "source": [
    "Lets plot a partNo "
   ]
  },
  {
   "cell_type": "code",
   "execution_count": 15,
   "metadata": {},
   "outputs": [
    {
     "data": {
      "image/png": "[encoded data removed]",
      "text/plain": [
       "<Figure size 1080x504 with 1 Axes>"
      ]
     },
     "metadata": {
      "needs_background": "light"
     },
     "output_type": "display_data"
    }
   ],
   "source": [
    "fig = plt.figure(figsize=(15, 7))\n",
    "plt.plot(df['part_no_29032636'].values)\n",
    "plt.title('week#')\n",
    "plt.grid(True)\n",
    "plt.show()"
   ]
  },
  {
   "cell_type": "markdown",
   "metadata": {},
   "source": [
    "sum of all duplicate columns\n",
    "\n",
    "Most of the duplicate columns have almost all zero values"
   ]
  },
  {
   "cell_type": "code",
   "execution_count": 44,
   "metadata": {},
   "outputs": [],
   "source": [
    "df = df.infer_objects()\n",
    "#for cols in same_col_name:\n",
    "#    print (cols)\n",
    "#    print (df[cols].sum(axis=0))"
   ]
  },
  {
   "cell_type": "markdown",
   "metadata": {},
   "source": [
    "correlation between columns"
   ]
  },
  {
   "cell_type": "code",
   "execution_count": 17,
   "metadata": {},
   "outputs": [],
   "source": [
    "col1_list  =[]\n",
    "col2_list  =[]\n",
    "cor_list = []\n",
    "cor = df.corr() \n",
    "for col1 in cor.columns:\n",
    "    for col2 in cor.index:\n",
    "        #print (col1,col2)\n",
    "        if col1 !=col2:\n",
    "            col1_list.append(col1)\n",
    "            col2_list.append(col2)\n",
    "            cor_list.append(cor[col1].ix[col2])"
   ]
  },
  {
   "cell_type": "markdown",
   "metadata": {},
   "source": [
    "There are 488 part group which has more than 0.8 correlation"
   ]
  },
  {
   "cell_type": "code",
   "execution_count": 18,
   "metadata": {},
   "outputs": [
    {
     "data": {
      "text/plain": [
       "(488, 3)"
      ]
     },
     "execution_count": 18,
     "metadata": {},
     "output_type": "execute_result"
    }
   ],
   "source": [
    "df_cor = pd.DataFrame({'col1':col1_list,'col2':col2_list,'cor_list':cor_list})\n",
    "df_cor.loc[df_cor.cor_list>0.8].shape"
   ]
  },
  {
   "cell_type": "markdown",
   "metadata": {},
   "source": [
    "Few next steps: \n",
    "    \n",
    "    1. Create train and test data for prediction\n",
    "    2. Create moving avg and shift features. We will only use past weeks values for creating these features like how time series works(make sure never use future data for calculating features)\n",
    "    3. Create the model (I have just tried only one model)\n",
    "    4. Choose hyperparameters\n",
    "    5. Choose validation metrics(RMSE). Since its error so it should follow lower is better  \n",
    "    6. Plot acutal vs predicted values\n",
    "  "
   ]
  },
  {
   "cell_type": "code",
   "execution_count": 41,
   "metadata": {},
   "outputs": [],
   "source": [
    "par_no = pd.DataFrame({'part_number':df.columns.values,'val':1})\n",
    "week_number=pd.DataFrame({'week_no':df.index.values,'val':1})\n",
    "df_all = par_no.merge(week_number)\n",
    "df_all = df_all.drop('val',axis=1)"
   ]
  },
  {
   "cell_type": "code",
   "execution_count": 42,
   "metadata": {},
   "outputs": [],
   "source": [
    "df_all['val'] = np.nan\n",
    "for col in df_all.part_number.unique():\n",
    "    df_all.loc[df_all.part_number == col,'val'] = df[col].values"
   ]
  },
  {
   "cell_type": "code",
   "execution_count": 43,
   "metadata": {},
   "outputs": [
    {
     "data": {
      "text/html": [
       "<div>\n",
       "<style scoped>\n",
       "    .dataframe tbody tr th:only-of-type {\n",
       "        vertical-align: middle;\n",
       "    }\n",
       "\n",
       "    .dataframe tbody tr th {\n",
       "        vertical-align: top;\n",
       "    }\n",
       "\n",
       "    .dataframe thead th {\n",
       "        text-align: right;\n",
       "    }\n",
       "</style>\n",
       "<table border=\"1\" class=\"dataframe\">\n",
       "  <thead>\n",
       "    <tr style=\"text-align: right;\">\n",
       "      <th></th>\n",
       "      <th>part_number</th>\n",
       "      <th>week_no</th>\n",
       "      <th>val</th>\n",
       "    </tr>\n",
       "  </thead>\n",
       "  <tbody>\n",
       "    <tr>\n",
       "      <th>0</th>\n",
       "      <td>part_no_29032636</td>\n",
       "      <td>WK 1</td>\n",
       "      <td>432.0</td>\n",
       "    </tr>\n",
       "    <tr>\n",
       "      <th>1</th>\n",
       "      <td>part_no_29032636</td>\n",
       "      <td>2</td>\n",
       "      <td>9316.0</td>\n",
       "    </tr>\n",
       "    <tr>\n",
       "      <th>2</th>\n",
       "      <td>part_no_29032636</td>\n",
       "      <td>3</td>\n",
       "      <td>8964.0</td>\n",
       "    </tr>\n",
       "    <tr>\n",
       "      <th>3</th>\n",
       "      <td>part_no_29032636</td>\n",
       "      <td>4</td>\n",
       "      <td>9000.0</td>\n",
       "    </tr>\n",
       "    <tr>\n",
       "      <th>4</th>\n",
       "      <td>part_no_29032636</td>\n",
       "      <td>5</td>\n",
       "      <td>6264.0</td>\n",
       "    </tr>\n",
       "    <tr>\n",
       "      <th>5</th>\n",
       "      <td>part_no_29032636</td>\n",
       "      <td>6</td>\n",
       "      <td>10476.0</td>\n",
       "    </tr>\n",
       "    <tr>\n",
       "      <th>6</th>\n",
       "      <td>part_no_29032636</td>\n",
       "      <td>7</td>\n",
       "      <td>9180.0</td>\n",
       "    </tr>\n",
       "    <tr>\n",
       "      <th>7</th>\n",
       "      <td>part_no_29032636</td>\n",
       "      <td>8</td>\n",
       "      <td>8856.0</td>\n",
       "    </tr>\n",
       "    <tr>\n",
       "      <th>8</th>\n",
       "      <td>part_no_29032636</td>\n",
       "      <td>9</td>\n",
       "      <td>6228.0</td>\n",
       "    </tr>\n",
       "    <tr>\n",
       "      <th>9</th>\n",
       "      <td>part_no_29032636</td>\n",
       "      <td>10</td>\n",
       "      <td>9468.0</td>\n",
       "    </tr>\n",
       "  </tbody>\n",
       "</table>\n",
       "</div>"
      ],
      "text/plain": [
       "        part_number week_no      val\n",
       "0  part_no_29032636    WK 1    432.0\n",
       "1  part_no_29032636       2   9316.0\n",
       "2  part_no_29032636       3   8964.0\n",
       "3  part_no_29032636       4   9000.0\n",
       "4  part_no_29032636       5   6264.0\n",
       "5  part_no_29032636       6  10476.0\n",
       "6  part_no_29032636       7   9180.0\n",
       "7  part_no_29032636       8   8856.0\n",
       "8  part_no_29032636       9   6228.0\n",
       "9  part_no_29032636      10   9468.0"
      ]
     },
     "execution_count": 43,
     "metadata": {},
     "output_type": "execute_result"
    }
   ],
   "source": [
    "df_all.head(10)"
   ]
  },
  {
   "cell_type": "markdown",
   "metadata": {},
   "source": [
    "\n",
    "Create Moving Average(2,5,10,20,30) features for part_number\n",
    "\n",
    "Create Shift(1,5,10,15) features for part_number\n"
   ]
  },
  {
   "cell_type": "code",
   "execution_count": 22,
   "metadata": {},
   "outputs": [],
   "source": [
    "df_all['mv_2'] = df_all.groupby('part_number')['val'].transform(lambda x: x.rolling(2, 1).mean())\n",
    "\n",
    "df_all['mv_5'] = df_all.groupby('part_number')['val'].transform(lambda x: x.rolling(5, 1).mean())\n",
    "\n",
    "df_all['mv_10'] = df_all.groupby('part_number')['val'].transform(lambda x: x.rolling(10, 1).mean())\n",
    "df_all['mv_20'] = df_all.groupby('part_number')['val'].transform(lambda x: x.rolling(20, 1).mean())\n",
    "df_all['mv_30'] = df_all.groupby('part_number')['val'].transform(lambda x: x.rolling(30, 1).mean())\n",
    "\n",
    "df_all['shift1'] = df_all.groupby('part_number')['val'].shift(1)\n",
    "\n",
    "df_all['shift5'] = df_all.groupby('part_number')['val'].shift(5)\n",
    "df_all['shift10'] = df_all.groupby('part_number')['val'].shift(10)\n",
    "\n",
    "df_all['shift15'] = df_all.groupby('part_number')['val'].shift(15)\n",
    "\n",
    "#df_all['part_number1'] = df_all['part_number'].apply(lambda x: x.split('part_no_')[1])"
   ]
  },
  {
   "cell_type": "markdown",
   "metadata": {},
   "source": [
    "Create train and test"
   ]
  },
  {
   "cell_type": "code",
   "execution_count": 24,
   "metadata": {},
   "outputs": [],
   "source": [
    "test_filter = ['1.2',\n",
    " '2.3',\n",
    " '3.3',\n",
    " '4.3',\n",
    " '5.3',\n",
    " '6.3',\n",
    " '7.3',\n",
    " '8.3',\n",
    " '9.3',\n",
    " '10.3',\n",
    " '11.3',\n",
    " '12.3',\n",
    " '13.3',\n",
    " '14.3',\n",
    " '15.3',\n",
    " '16.3',\n",
    " '17.3',\n",
    " '18.3',\n",
    " '19.3',\n",
    " '20.3',\n",
    " '21.3',\n",
    " '22.3',\n",
    " '23.3',\n",
    " '24.3',\n",
    " '25.3',\n",
    " '26.3',\n",
    " '27.3',\n",
    " '28.3',\n",
    " '29.3',\n",
    " '30.3',\n",
    " '31.3',\n",
    " '32.3',\n",
    " '33.3',\n",
    " '34.3',\n",
    " '35.3',\n",
    " '36.3',\n",
    " '37.3',\n",
    " '38.3',\n",
    " '39.3',\n",
    " '40.3',\n",
    " '41.3',\n",
    " '42.3',\n",
    " '43.3',\n",
    " '44.3',\n",
    " '45.3',\n",
    " '46.3',\n",
    " '47.3',\n",
    " '48.3']"
   ]
  },
  {
   "cell_type": "code",
   "execution_count": 25,
   "metadata": {},
   "outputs": [],
   "source": [
    "train = df_all.loc[~df_all.week_no.isin(test_filter)]\n",
    "test = df_all.loc[df_all.week_no.isin(test_filter)]"
   ]
  },
  {
   "cell_type": "code",
   "execution_count": 26,
   "metadata": {},
   "outputs": [],
   "source": [
    "train.replace(np.nan,0,inplace=True)\n",
    "test.replace(np.nan,0,inplace=True)\n",
    "\n",
    "\n",
    "y_train  = train.val\n",
    "y_test  = test.val\n",
    "\n",
    "y_test_week  = test.week_no\n",
    "y_train_week  = train.week_no\n",
    "\n",
    "test_part_number = test.part_number\n",
    "\n",
    "train = train.drop('val',axis=1)\n",
    "test  = test.drop('val',axis=1)\n",
    "\n",
    "index_train = train.part_number\n",
    "index_test = test.part_number"
   ]
  },
  {
   "cell_type": "code",
   "execution_count": 27,
   "metadata": {},
   "outputs": [],
   "source": [
    "train['week_no'] = train['week_no'].apply(lambda x: str(x).split('.')[0])\n",
    "test['week_no'] = test['week_no'].apply(lambda x: str(x).split('.')[0])\n",
    "train.loc[train.week_no=='WK 1','week_no']=1\n",
    "\n",
    "train['week_no'] = train['week_no'].astype(int)\n",
    "test['week_no'] = test['week_no'].astype(int)"
   ]
  },
  {
   "cell_type": "code",
   "execution_count": 28,
   "metadata": {},
   "outputs": [
    {
     "data": {
      "text/plain": [
       "array([ 1,  2,  3,  4,  5,  6,  7,  8,  9, 10, 11, 12, 13, 14, 15, 16, 17,\n",
       "       18, 19, 20, 21, 22, 23, 24, 25, 26, 27, 28, 29, 30, 31, 32, 33, 34,\n",
       "       35, 36, 37, 38, 39, 40, 41, 42, 43, 44, 45, 46, 47, 48])"
      ]
     },
     "execution_count": 28,
     "metadata": {},
     "output_type": "execute_result"
    }
   ],
   "source": [
    "test['week_no'].unique()"
   ]
  },
  {
   "cell_type": "code",
   "execution_count": 29,
   "metadata": {},
   "outputs": [
    {
     "data": {
      "text/plain": [
       "array([ 1,  2,  3,  4,  5,  6,  7,  8,  9, 10, 11, 12, 13, 14, 15, 16, 17,\n",
       "       18, 19, 20, 21, 22, 23, 24, 25, 26, 27, 28, 29, 30, 31, 32, 33, 34,\n",
       "       35, 36, 37, 38, 39, 40, 41, 42, 43, 44, 45, 46, 47, 48, 49, 50, 51,\n",
       "       52, 53])"
      ]
     },
     "execution_count": 29,
     "metadata": {},
     "output_type": "execute_result"
    }
   ],
   "source": [
    "train['week_no'].unique()"
   ]
  },
  {
   "cell_type": "code",
   "execution_count": 30,
   "metadata": {},
   "outputs": [
    {
     "data": {
      "text/plain": [
       "((16176, 11), (52909, 11))"
      ]
     },
     "execution_count": 30,
     "metadata": {},
     "output_type": "execute_result"
    }
   ],
   "source": [
    "test.shape, train.shape"
   ]
  },
  {
   "cell_type": "markdown",
   "metadata": {},
   "source": [
    "Convert all categorical features to numerical features"
   ]
  },
  {
   "cell_type": "code",
   "execution_count": 31,
   "metadata": {},
   "outputs": [],
   "source": [
    "from sklearn import ensemble, preprocessing\n",
    "from sklearn.preprocessing import StandardScaler\n",
    "from sklearn.cluster import KMeans\n",
    "\n",
    "for f in train.columns:            \n",
    "    lbl = preprocessing.LabelEncoder()\n",
    "    lbl.fit(list(train[f].values) + list(test[f].values))\n",
    "    train[f] = lbl.transform(list(train[f].values))\n",
    "    test[f] = lbl.transform(list(test[f].values))"
   ]
  },
  {
   "cell_type": "markdown",
   "metadata": {},
   "source": [
    "Search for best hyperparameters"
   ]
  },
  {
   "cell_type": "code",
   "execution_count": 32,
   "metadata": {},
   "outputs": [],
   "source": [
    "rmse = 100\n",
    "ntree1 = -1\n",
    "d1 = -1\n",
    "import lightgbm as lgb\n",
    "from sklearn.metrics import mean_squared_log_error\n",
    "for d in [2,4,6,8,10]:\n",
    "    for ntree in [100,200,300,400,500]:\n",
    "        gbm = lgb.LGBMRegressor(learning_rate= 0.2,max_depth= d, feature_fraction= 1, n_estimators=ntree)\n",
    "        gbm.fit(train, np.log1p(y_train))\n",
    "        y_pred = np.expm1(gbm.predict(test))\n",
    "        y_pred[y_pred<0] = 0 \n",
    "        rmse1 = mean_squared_log_error(y_pred, y_test) ** 0.5\n",
    "        #print (rmse1)\n",
    "        if rmse1 < rmse:\n",
    "            rmse = rmse1\n",
    "            d1 = d\n",
    "            ntree1 = ntree"
   ]
  },
  {
   "cell_type": "markdown",
   "metadata": {},
   "source": [
    "Lowest rmse value for best hyperparameters"
   ]
  },
  {
   "cell_type": "code",
   "execution_count": 33,
   "metadata": {},
   "outputs": [
    {
     "name": "stdout",
     "output_type": "stream",
     "text": [
      "depth 4 #tree 500 best rmse for hyper parameter seach: 0.3261925472322549\n"
     ]
    }
   ],
   "source": [
    "print('depth', d1,'#tree',ntree1, 'best rmse for hyper parameter seach:',rmse)"
   ]
  },
  {
   "cell_type": "code",
   "execution_count": 34,
   "metadata": {},
   "outputs": [],
   "source": [
    "df_predict = pd.DataFrame({'part':test_part_number,'week':y_test_week,'y_pred':y_pred,'y_actual':y_test})"
   ]
  },
  {
   "cell_type": "markdown",
   "metadata": {},
   "source": [
    "inspect few part# actual vs predicted values"
   ]
  },
  {
   "cell_type": "code",
   "execution_count": 35,
   "metadata": {},
   "outputs": [
    {
     "data": {
      "image/png": "[encoded data removed]",
      "text/plain": [
       "<Figure size 1080x504 with 1 Axes>"
      ]
     },
     "metadata": {
      "needs_background": "light"
     },
     "output_type": "display_data"
    }
   ],
   "source": [
    "fig = plt.figure(figsize=(15, 7))\n",
    "plt.plot(df_predict.loc[df_predict.part=='part_no_29032636','y_pred'].values)\n",
    "plt.plot(df_predict.loc[df_predict.part=='part_no_29032636','y_actual'].values)\n",
    "plt.title('week#')\n",
    "plt.grid(True)\n",
    "plt.show()"
   ]
  },
  {
   "cell_type": "code",
   "execution_count": 36,
   "metadata": {},
   "outputs": [
    {
     "data": {
      "image/png": "[encoded data removed]",
      "text/plain": [
       "<Figure size 1080x504 with 1 Axes>"
      ]
     },
     "metadata": {
      "needs_background": "light"
     },
     "output_type": "display_data"
    }
   ],
   "source": [
    "fig = plt.figure(figsize=(15, 7))\n",
    "plt.plot(df_predict.loc[df_predict.part=='part_no_29033295','y_pred'].values)\n",
    "plt.plot(df_predict.loc[df_predict.part=='part_no_29033295','y_actual'].values)\n",
    "plt.title('week#')\n",
    "plt.grid(True)\n",
    "plt.show()"
   ]
  },
  {
   "cell_type": "code",
   "execution_count": 37,
   "metadata": {},
   "outputs": [
    {
     "data": {
      "image/png": "[encoded data removed]",
      "text/plain": [
       "<Figure size 1080x504 with 1 Axes>"
      ]
     },
     "metadata": {
      "needs_background": "light"
     },
     "output_type": "display_data"
    }
   ],
   "source": [
    "fig = plt.figure(figsize=(15, 7))\n",
    "plt.plot(df_predict.loc[df_predict.part=='part_no_29032900_0','y_pred'].values)\n",
    "plt.plot(df_predict.loc[df_predict.part=='part_no_29032900_0','y_actual'].values)\n",
    "plt.title('week#')\n",
    "plt.grid(True)\n",
    "plt.show()"
   ]
  },
  {
   "cell_type": "code",
   "execution_count": 38,
   "metadata": {},
   "outputs": [
    {
     "data": {
      "text/plain": [
       "22726    part_no_29032639_0\n",
       "40368    part_no_19316006_2\n",
       "48966    part_no_29033065_2\n",
       "65792    part_no_29032487_1\n",
       "Name: part, dtype: object"
      ]
     },
     "execution_count": 38,
     "metadata": {},
     "output_type": "execute_result"
    }
   ],
   "source": [
    "df_predict.part.sample(4)"
   ]
  },
  {
   "cell_type": "code",
   "execution_count": null,
   "metadata": {},
   "outputs": [],
   "source": []
  },
  {
   "cell_type": "code",
   "execution_count": 40,
   "metadata": {},
   "outputs": [
    {
     "data": {
      "text/plain": [
       "0          part_no_29032636\n",
       "1          part_no_29032636\n",
       "2          part_no_29032636\n",
       "3          part_no_29032636\n",
       "4          part_no_29032636\n",
       "5          part_no_29032636\n",
       "6          part_no_29032636\n",
       "7          part_no_29032636\n",
       "8          part_no_29032636\n",
       "9          part_no_29032636\n",
       "10         part_no_29032636\n",
       "11         part_no_29032636\n",
       "12         part_no_29032636\n",
       "13         part_no_29032636\n",
       "14         part_no_29032636\n",
       "15         part_no_29032636\n",
       "16         part_no_29032636\n",
       "17         part_no_29032636\n",
       "18         part_no_29032636\n",
       "19         part_no_29032636\n",
       "20         part_no_29032636\n",
       "21         part_no_29032636\n",
       "22         part_no_29032636\n",
       "23         part_no_29032636\n",
       "24         part_no_29032636\n",
       "25         part_no_29032636\n",
       "26         part_no_29032636\n",
       "27         part_no_29032636\n",
       "28         part_no_29032636\n",
       "29         part_no_29032636\n",
       "                ...        \n",
       "69055    part_no_29033253_2\n",
       "69056    part_no_29033253_2\n",
       "69057    part_no_29033253_2\n",
       "69058    part_no_29033253_2\n",
       "69059    part_no_29033253_2\n",
       "69060    part_no_29033253_2\n",
       "69061    part_no_29033253_2\n",
       "69062    part_no_29033253_2\n",
       "69063    part_no_29033253_2\n",
       "69064    part_no_29033253_2\n",
       "69065    part_no_29033253_2\n",
       "69066    part_no_29033253_2\n",
       "69067    part_no_29033253_2\n",
       "69068    part_no_29033253_2\n",
       "69069    part_no_29033253_2\n",
       "69070    part_no_29033253_2\n",
       "69071    part_no_29033253_2\n",
       "69072    part_no_29033253_2\n",
       "69073    part_no_29033253_2\n",
       "69074    part_no_29033253_2\n",
       "69075    part_no_29033253_2\n",
       "69076    part_no_29033253_2\n",
       "69077    part_no_29033253_2\n",
       "69078    part_no_29033253_2\n",
       "69079    part_no_29033253_2\n",
       "69080    part_no_29033253_2\n",
       "69081    part_no_29033253_2\n",
       "69082    part_no_29033253_2\n",
       "69083    part_no_29033253_2\n",
       "69084    part_no_29033253_2\n",
       "Name: part_number, Length: 69085, dtype: object"
      ]
     },
     "execution_count": 40,
     "metadata": {},
     "output_type": "execute_result"
    }
   ],
   "source": [
    "df_all['part_number']"
   ]
  },
  {
   "cell_type": "code",
   "execution_count": null,
   "metadata": {},
   "outputs": [],
   "source": []
  }
 ],
 "metadata": {
  "kernelspec": {
   "display_name": "Python 3",
   "language": "python",
   "name": "python3"
  },
  "language_info": {
   "codemirror_mode": {
    "name": "ipython",
    "version": 3
   },
   "file_extension": ".py",
   "mimetype": "text/x-python",
   "name": "python",
   "nbconvert_exporter": "python",
   "pygments_lexer": "ipython3",
   "version": "3.7.3"
  }
 },
 "nbformat": 4,
 "nbformat_minor": 2
}
